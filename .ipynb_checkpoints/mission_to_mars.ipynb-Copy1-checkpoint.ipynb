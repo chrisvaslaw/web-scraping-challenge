{
 "cells": [
  {
   "cell_type": "code",
   "execution_count": 1,
   "metadata": {},
   "outputs": [],
   "source": [
    "from splinter import Browser\n",
    "from bs4 import BeautifulSoup as bs\n",
    "import time\n",
    "from webdriver_manager.chrome import ChromeDriverManager\n",
    "import pandas as pd"
   ]
  },
  {
   "cell_type": "code",
   "execution_count": 2,
   "metadata": {},
   "outputs": [],
   "source": [
    "def init():\n",
    "    # initiate splinter\n",
    "    executable_path = {'executable_path': ChromeDriverManager().install()}\n",
    "    browser = Browser('chrome', **executable_path, headless=False)\n",
    "    return browser"
   ]
  },
  {
   "cell_type": "code",
   "execution_count": 3,
   "metadata": {},
   "outputs": [],
   "source": [
    "mars_data = {}"
   ]
  },
  {
   "cell_type": "code",
   "execution_count": 10,
   "metadata": {},
   "outputs": [],
   "source": [
    "def mars_news():\n",
    "    \n",
    "    # initiate browser\n",
    "    browser = init()\n",
    "    \n",
    "    # Visit redplanetscience.com/\n",
    "    url = \"https://redplanetscience.com/\"\n",
    "    browser.visit(url)\n",
    "    time.sleep(1)\n",
    "\n",
    "    # Scrape page into Soup\n",
    "    html = browser.html\n",
    "    soup = bs(html, \"html.parser\")\n",
    "\n",
    "    # Get the Latest News Title\n",
    "    title = soup.find(\"div\", class_=\"content_title\").get_text()\n",
    "\n",
    "    # Get the Latest Paragraph Text\n",
    "    paragraph = soup.find(\"div\", class_=\"article_teaser_body\").get_text()\n",
    "    \n",
    "    # Add to Mars Data Dictionary\n",
    "    mars_data['title'] = title \n",
    "    mars_data['paragraph'] = paragraph\n",
    "    \n",
    "    # Close Browser and Return Data\n",
    "    browser.quit()\n",
    "    return mars_data"
   ]
  },
  {
   "cell_type": "code",
   "execution_count": null,
   "metadata": {},
   "outputs": [],
   "source": [
    "def mars_image():\n",
    "    \n",
    "    # initiate browser\n",
    "    browser = init()\n",
    "    \n",
    "    # Visit https://spaceimages-mars.com/\n",
    "    url = \"https://spaceimages-mars.com/\"\n",
    "    featured_image_url = url + ('image/featured/mars3.jpg')\n",
    "    browser.visit(url)\n",
    "    time.sleep(1)\n",
    "\n",
    "    # Scrape page into Soup\n",
    "    html = browser.html\n",
    "    soup = bs(html, \"html.parser\")\n",
    "    \n",
    "    # Get the current Featured Mars Image\n",
    "    featured_image = soup.find_all('img')[1][\"src\"]\n",
    "    \n",
    "    # Add to Mars Data Dictionary\n",
    "    mars_data['image'] = featured_image_url + featured_image\n",
    "    \n",
    "    # Close Browser and Return Data\n",
    "    browser.quit()\n",
    "    return mars_data"
   ]
  },
  {
   "cell_type": "code",
   "execution_count": 27,
   "metadata": {},
   "outputs": [
    {
     "name": "stderr",
     "output_type": "stream",
     "text": [
      "[WDM] - ====== WebDriver manager ======\n",
      "[WDM] - Current google-chrome version is 90.0.4430\n",
      "[WDM] - Get LATEST driver version for 90.0.4430\n",
      "[WDM] - Driver [C:\\Users\\Elizabeth\\.wdm\\drivers\\chromedriver\\win32\\90.0.4430.24\\chromedriver.exe] found in cache\n"
     ]
    },
    {
     "name": "stdout",
     "output_type": "stream",
     "text": [
      "\n",
      "\n",
      "-----------\n",
      "Mars and Earth have approximately the same landmass.\n",
      "-----------\n",
      "Even though Mars has only 15% of the Earth’s volume and just over 10% of the Earth’s mass, around two thirds of the Earth’s surface is covered in water. Martian surface gravity is only 37% of the Earth’s (meaning you could leap nearly three times higher on Mars).\n",
      "Scraping Complete\n"
     ]
    }
   ],
   "source": [
    "\n",
    "    \n",
    "    # initiate browser\n",
    "browser = init()\n",
    "    \n",
    "    # Visit https://galaxyfacts-mars.com/\n",
    "url = \"https://galaxyfacts-mars.com/\"\n",
    "browser.visit(url)\n",
    "time.sleep(1)\n",
    "    \n",
    "    # Use pandas read html for Mars Planet Profile\n",
    "mars_facts_profile = pd.read_html(url)[1]\n",
    "\n",
    "    # Scrape page into Soup\n",
    "html = browser.html\n",
    "soup = bs(html, \"html.parser\")\n",
    "\n",
    "    # Get the remaining facts about the planet\n",
    "mars_facts_list = soup.find_all(\"ul\", class_=\"mt-3\")\n",
    "    for facts in mars_facts_list:\n",
    "        title = facts.find('h5').get_text()\n",
    "        paragraph = facts.find('p').get_text()\n",
    "        mars_data['facts_headers'] = title\n",
    "        mars_data['facts'] =  paragraph\n",
    "        print('-----------')\n",
    "        print(title)\n",
    "        print('-----------')\n",
    "        print(paragraph)\n",
    "\n",
    "    # Click the 'Next' button on each page\n",
    "    try:\n",
    "        browser.links.find_by_partial_text('next').click()\n",
    "          \n",
    "    except:\n",
    "        print(\"Scraping Complete\")\n",
    "        \n",
    "    # Add to Mars Data Dictionary\n",
    "\n",
    "    \n",
    "    # Close Browser and Return Data\n",
    "browser.quit()"
   ]
  },
  {
   "cell_type": "code",
   "execution_count": 29,
   "metadata": {},
   "outputs": [
    {
     "name": "stdout",
     "output_type": "stream",
     "text": [
      "<ul class=\"mt-3\">\n",
      "<li>\n",
      "<h5>Mars and Earth have approximately the same landmass.</h5>\n",
      "<p>Even though Mars has only 15% of the Earth’s volume and just over 10% of the <span class=\"red\">Earth’s</span> mass, around two thirds of the Earth’s surface is covered in water. Martian surface gravity is only 37% of the Earth’s (meaning you could leap nearly three times higher on Mars).</p>\n",
      "</li>\n",
      "<li>\n",
      "<h5>Mars is home to the tallest mountain in the solar system.</h5>\n",
      "<p><span class=\"red\">Olympus Mons</span>, a shield volcano, is 21km high and 600km in diameter. Despite having formed over billions of years, evidence from volcanic lava flows is so recent many scientists believe it could still be active.</p>\n",
      "</li>\n",
      "<li>\n",
      "<h5>Only 18 missions to Mars have been successful.</h5>\n",
      "<p>As of September 2014 there have been 40 <span class=\"red\"> missions to Mars</span>, including orbiters, landers and rovers but not counting flybys. The most recent arrivals include the Mars Curiosity mission in 2012, the MAVEN mission, which arrived on September 22, 2014, followed by the Indian Space Research Organization’s MOM Mangalyaan orbiter, which arrived on September 24, 2014. The next missions to arrive will be the European Space Agency’s ExoMars mission, comprising an orbiter, lander, and a rover, followed by NASA’s InSight robotic lander mission, slated for launch in March 2016 and a planned arrival in September, 2016.</p>\n",
      "</li>\n",
      "<li>\n",
      "<h5>Mars has the largest dust storms in the solar system.</h5>\n",
      "<p>They can last for months and cover the entire planet. The seasons are extreme because its elliptical (oval-shaped) orbital path around the Sun is more elongated than most other planets in the solar <span class=\"red\"> system.</span></p>\n",
      "</li>\n",
      "<li>\n",
      "<h5>On Mars the Sun appears about half the size as it does on Earth.</h5>\n",
      "<p>At the closest point to the Sun, the Martian southern hemisphere leans towards the Sun, causing a short, intensely hot summer, while the northern hemisphere endures a brief, cold winter: at its farthest point from the Sun, the Martian northern hemisphere leans towards the Sun, causing a long, mild summer, while the southern hemisphere endures a lengthy, cold winter.</p>\n",
      "</li>\n",
      "<li>\n",
      "<h5>Pieces of Mars have fallen to Earth.</h5>\n",
      "<p>Scientists have found tiny traces of Martian atmosphere within meteorites violently ejected from Mars, then orbiting the solar system amongst galactic debris for millions of years, before crash landing on Earth. This allowed scientists to begin studying Mars prior to launching space missions.</p>\n",
      "</li>\n",
      "<li>\n",
      "<h5>Mars takes its name from the Roman god of war.</h5>\n",
      "<p>The ancient Greeks called the planet Ares, after their god of war; the Romans then did likewise, associating the planet’s blood-red colour with Mars, their own god of war. Interestingly, other ancient cultures also focused on colour – to China’s astronomers it was ‘the fire star’, whilst Egyptian priests called on ‘Her Desher’, or ‘the red one’. The red colour Mars is known for is due to the rock and dust covering its surface being rich in iron.</p>\n",
      "</li>\n",
      "<li>\n",
      "<h5>There are signs of liquid water on Mars.</h5>\n",
      "<p>For years Mars has been known to have water in the form of ice. The first signs of trickling water are dark stripes or stains on crater wall and cliffs seen in satellite images. Due to Mars’ atmosphere this water would have to be salty to prevent it from freezing or vaporising.</p>\n",
      "</li>\n",
      "<li>\n",
      "<h5>One day Mars will have a ring.</h5>\n",
      "<p>In the next 20-40 million years Mars’ largest moon Phobos will be torn apart by gravitational forces leading to the creation of a ring that could last up to 100 million years.</p>\n",
      "</li>\n",
      "<li>\n",
      "<h5>Sunsets on Mars are blue.</h5>\n",
      "<p>During the martian day the sky is pinkish-red, this is the opposite of the Earth’s skies.</p>\n",
      "</li>\n",
      "</ul>\n"
     ]
    }
   ],
   "source": [
    "mars_facts_list = soup.find_all(\"ul\", class_=\"mt-3\")\n",
    "for facts in mars_facts_list:\n",
    "    print(facts)"
   ]
  },
  {
   "cell_type": "code",
   "execution_count": null,
   "metadata": {},
   "outputs": [],
   "source": []
  }
 ],
 "metadata": {
  "kernelspec": {
   "display_name": "Python 3",
   "language": "python",
   "name": "python3"
  },
  "language_info": {
   "codemirror_mode": {
    "name": "ipython",
    "version": 3
   },
   "file_extension": ".py",
   "mimetype": "text/x-python",
   "name": "python",
   "nbconvert_exporter": "python",
   "pygments_lexer": "ipython3",
   "version": "3.7.9"
  }
 },
 "nbformat": 4,
 "nbformat_minor": 4
}
