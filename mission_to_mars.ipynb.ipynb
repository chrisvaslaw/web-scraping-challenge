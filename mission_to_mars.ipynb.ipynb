{
 "cells": [
  {
   "cell_type": "code",
   "execution_count": 11,
   "metadata": {},
   "outputs": [],
   "source": [
    "from splinter import Browser\n",
    "from bs4 import BeautifulSoup as bs\n",
    "import time\n",
    "from webdriver_manager.chrome import ChromeDriverManager\n",
    "import pandas as pd"
   ]
  },
  {
   "cell_type": "code",
   "execution_count": 12,
   "metadata": {},
   "outputs": [],
   "source": [
    "def init():\n",
    "    # initiate splinter\n",
    "    executable_path = {'executable_path': ChromeDriverManager().install()}\n",
    "    browser = Browser('chrome', **executable_path, headless=False)\n",
    "    return browser"
   ]
  },
  {
   "cell_type": "code",
   "execution_count": 13,
   "metadata": {},
   "outputs": [],
   "source": [
    "mars_data = {}"
   ]
  },
  {
   "cell_type": "code",
   "execution_count": 10,
   "metadata": {},
   "outputs": [],
   "source": [
    "def mars_news():\n",
    "    \n",
    "    # initiate browser\n",
    "    browser = init()\n",
    "    \n",
    "    # Visit redplanetscience.com/\n",
    "    url = \"https://redplanetscience.com/\"\n",
    "    browser.visit(url)\n",
    "    time.sleep(1)\n",
    "\n",
    "    # Scrape page into Soup\n",
    "    html = browser.html\n",
    "    soup = bs(html, \"html.parser\")\n",
    "\n",
    "    # Get the Latest News Title\n",
    "    title = soup.find(\"div\", class_=\"content_title\").get_text()\n",
    "\n",
    "    # Get the Latest Paragraph Text\n",
    "    paragraph = soup.find(\"div\", class_=\"article_teaser_body\").get_text()\n",
    "    \n",
    "    # Add to Mars Data Dictionary\n",
    "    mars_data['title'] = title \n",
    "    mars_data['paragraph'] = paragraph\n",
    "    \n",
    "    # Close Browser and Return Data\n",
    "    browser.quit()\n",
    "    return mars_data"
   ]
  },
  {
   "cell_type": "code",
   "execution_count": null,
   "metadata": {},
   "outputs": [],
   "source": [
    "def mars_image():\n",
    "    \n",
    "    # initiate browser\n",
    "    browser = init()\n",
    "    \n",
    "    # Visit https://spaceimages-mars.com/\n",
    "    url = \"https://spaceimages-mars.com/\"\n",
    "    featured_image_url = url + ('image/featured/mars3.jpg')\n",
    "    browser.visit(url)\n",
    "    time.sleep(1)\n",
    "\n",
    "    # Scrape page into Soup\n",
    "    html = browser.html\n",
    "    soup = bs(html, \"html.parser\")\n",
    "    \n",
    "    # Get the current Featured Mars Image\n",
    "    featured_image = soup.find_all('img')[1][\"src\"]\n",
    "    \n",
    "    # Add to Mars Data Dictionary\n",
    "    mars_data['image'] = featured_image_url + featured_image\n",
    "    \n",
    "    # Close Browser and Return Data\n",
    "    browser.quit()\n",
    "    return mars_data"
   ]
  },
  {
   "cell_type": "code",
   "execution_count": null,
   "metadata": {},
   "outputs": [],
   "source": [
    "def mars_facts():\n",
    "    \n",
    "    # initiate browser\n",
    "    browser = init()\n",
    "    \n",
    "    # Visit https://galaxyfacts-mars.com/\n",
    "    url = \"https://galaxyfacts-mars.com/\"\n",
    "    browser.visit(url)\n",
    "    time.sleep(1)\n",
    "    \n",
    "    # Use pandas read html for Mars Planet Profile\n",
    "    mars_facts_profile = pd.read_html(url)[1]\n",
    "\n",
    "    # Scrape page into Soup\n",
    "    html = browser.html\n",
    "    soup = bs(html, \"html.parser\")\n",
    "\n",
    "    # Get the remaining facts about the planet\n",
    "    mars_facts_list = soup.find_all(\"ul\", class_=\"mt-3\")\n",
    "    \n",
    "    # Add to Mars Data Dictionary\n",
    "    mars_data['quick_facts'] = mars_facts_profile\n",
    "    mars_data['fun_facts'] =  mars_facts_list\n",
    "    \n",
    "    # Close Browser and Return Data\n",
    "    browser.quit()\n",
    "    return mars_data"
   ]
  }
 ],
 "metadata": {
  "kernelspec": {
   "display_name": "Python 3",
   "language": "python",
   "name": "python3"
  },
  "language_info": {
   "codemirror_mode": {
    "name": "ipython",
    "version": 3
   },
   "file_extension": ".py",
   "mimetype": "text/x-python",
   "name": "python",
   "nbconvert_exporter": "python",
   "pygments_lexer": "ipython3",
   "version": "3.7.9"
  }
 },
 "nbformat": 4,
 "nbformat_minor": 4
}
