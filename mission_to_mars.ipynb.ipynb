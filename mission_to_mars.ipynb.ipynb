{
 "cells": [
  {
   "cell_type": "code",
   "execution_count": 8,
   "metadata": {},
   "outputs": [],
   "source": [
    "from splinter import Browser\n",
    "from bs4 import BeautifulSoup as bs\n",
    "import time\n",
    "from webdriver_manager.chrome import ChromeDriverManager\n",
    "import pandas as pd"
   ]
  },
  {
   "cell_type": "code",
   "execution_count": 9,
   "metadata": {},
   "outputs": [],
   "source": [
    "def init():\n",
    "    # initiate splinter\n",
    "    executable_path = {'executable_path': ChromeDriverManager().install()}\n",
    "    browser = Browser('chrome', **executable_path, headless=False)\n",
    "    return browser"
   ]
  },
  {
   "cell_type": "code",
   "execution_count": 10,
   "metadata": {},
   "outputs": [],
   "source": [
    "def scrape():\n",
    "    \n",
    "    # initiate browser\n",
    "    browser = init()\n",
    "    mars_data = {}\n",
    "    \n",
    "    # Visit redplanetscience.com/\n",
    "    url = \"https://redplanetscience.com/\"\n",
    "    browser.visit(url)\n",
    "    time.sleep(1)\n",
    "\n",
    "    # Scrape page into Soup\n",
    "    html = browser.html\n",
    "    soup = bs(html, \"html.parser\")\n",
    "\n",
    "    # Get the Latest News Title\n",
    "    title = soup.find(\"div\", class_=\"content_title\").get_text()\n",
    "\n",
    "    # Get the Latest Paragraph Text\n",
    "    paragraph = soup.find(\"div\", class_=\"article_teaser_body\").get_text()\n",
    "    \n",
    "    # Add to Mars Data Dictionary\n",
    "    mars_data['title'] = title \n",
    "    mars_data['paragraph'] = paragraph\n",
    "    \n",
    "#__________________________________________________________________________________#\n",
    "\n",
    "    # Visit https://spaceimages-mars.com/\n",
    "    url_2 = \"https://spaceimages-mars.com/\"\n",
    "    featured_image_url = url_2 + ('image/featured/mars3.jpg')\n",
    "    browser.visit(featured_image_url)\n",
    "    time.sleep(1)\n",
    "    response = browser.html\n",
    "    \n",
    "    # Scrape page into Soup\n",
    "    soup_2 = bs(response, \"html.parser\")\n",
    "    \n",
    "    # Get the current Featured Mars Image\n",
    "    featured_image = soup_2.find_all('img')[1][\"src\"]\n",
    "    \n",
    "    # Add to Mars Data Dictionary\n",
    "    mars_data['image'] = featured_image_url + featured_image\n",
    "    \n",
    "#__________________________________________________________________________________#\n",
    "\n",
    "    # Visit https://galaxyfacts-mars.com/\n",
    "    url_3 = \"https://galaxyfacts-mars.com/\"\n",
    "    browser.visit(url_3)\n",
    "    time.sleep(1)\n",
    "    response_2 = browser.html\n",
    "    \n",
    "    # Use pandas read html for Mars Planet Profile\n",
    "    mars_facts_profile = pd.read_html(url_3)[1]\n",
    "\n",
    "    # Scrape page into Soup\n",
    "    soup_3 = bs(response_2, \"html.parser\")\n",
    "\n",
    "    # Get the remaining facts about the planet\n",
    "    mars_facts_list = soup_3.find_all(\"ul\", class_=\"mt-3\")\n",
    "        \n",
    "    mars_data['quick_facts'] = mars_facts_profile\n",
    "    mars_data['fun_facts'] =  mars_facts_list"
   ]
  }
 ],
 "metadata": {
  "kernelspec": {
   "display_name": "Python 3",
   "language": "python",
   "name": "python3"
  },
  "language_info": {
   "codemirror_mode": {
    "name": "ipython",
    "version": 3
   },
   "file_extension": ".py",
   "mimetype": "text/x-python",
   "name": "python",
   "nbconvert_exporter": "python",
   "pygments_lexer": "ipython3",
   "version": "3.7.9"
  }
 },
 "nbformat": 4,
 "nbformat_minor": 4
}
